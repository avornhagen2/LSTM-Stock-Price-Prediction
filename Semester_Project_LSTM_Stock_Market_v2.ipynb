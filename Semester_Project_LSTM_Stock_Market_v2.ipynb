{
  "nbformat": 4,
  "nbformat_minor": 0,
  "metadata": {
    "colab": {
      "name": "Semester Project LSTM Stock Market v2.ipynb",
      "provenance": []
    },
    "kernelspec": {
      "name": "python3",
      "display_name": "Python 3"
    },
    "language_info": {
      "name": "python"
    }
  },
  "cells": [
    {
      "cell_type": "code",
      "metadata": {
        "id": "CT7nn-yA-HH8"
      },
      "source": [
        "# https://youtu.be/tepxdcepTbY\n",
        "\"\"\"\n",
        "@author: Sreenivas Bhattiprolu\n",
        "Code tested on Tensorflow: 2.2.0\n",
        "    Keras: 2.4.3\n",
        "dataset: https://finance.yahoo.com/quote/GE/history/\n",
        "Also try S&P: https://finance.yahoo.com/quote/%5EGSPC/history?p=%5EGSPC\n",
        "\"\"\"\n",
        "\n",
        "import numpy as np\n",
        "from tensorflow.keras.models import Sequential\n",
        "from tensorflow.keras.layers import LSTM\n",
        "from tensorflow.keras.layers import Dense, Dropout\n",
        "import pandas as pd\n",
        "from matplotlib import pyplot as plt\n",
        "from sklearn.preprocessing import StandardScaler\n",
        "import seaborn as sns\n",
        "#from datetime import datetime\n",
        "\n"
      ],
      "execution_count": 1,
      "outputs": []
    },
    {
      "cell_type": "code",
      "metadata": {
        "colab": {
          "base_uri": "https://localhost:8080/"
        },
        "id": "cZaouiWA-Z7R",
        "outputId": "a3afc897-67ae-49da-cd06-8d88ad46c08f"
      },
      "source": [
        "#Read the csv file\n",
        "df = pd.read_csv('/content/drive/MyDrive/GBPJPY_Daily.csv')\n",
        "print(df.head()) #7 columns, including the Date. \n",
        "\n"
      ],
      "execution_count": 2,
      "outputs": [
        {
          "output_type": "stream",
          "name": "stdout",
          "text": [
            "        Date        Open        High         Low       Close   Adj Close\n",
            "0  12/1/2003  189.330002  189.660004  187.740005  187.630005  187.630005\n",
            "1  12/2/2003  187.669998  188.809998  187.559998  188.009995  188.009995\n",
            "2  12/3/2003  188.020004  188.240005  186.490005  187.089996  187.089996\n",
            "3  12/4/2003  187.029999  187.029999  185.899994  186.220001  186.220001\n",
            "4  12/5/2003  186.190002  186.740005  185.830002  185.880005  185.880005\n"
          ]
        }
      ]
    },
    {
      "cell_type": "code",
      "metadata": {
        "colab": {
          "base_uri": "https://localhost:8080/"
        },
        "id": "L-en8XHw-aMV",
        "outputId": "12d0feea-56d3-45f1-b3d3-c244b1464932"
      },
      "source": [
        "#Separate dates for future plotting\n",
        "train_dates = pd.to_datetime(df['Date'])\n",
        "print(train_dates.tail(15)) #Check last few dates. \n",
        "\n"
      ],
      "execution_count": 3,
      "outputs": [
        {
          "output_type": "stream",
          "name": "stdout",
          "text": [
            "4640   2021-09-13\n",
            "4641   2021-09-14\n",
            "4642   2021-09-15\n",
            "4643   2021-09-16\n",
            "4644   2021-09-17\n",
            "4645   2021-09-20\n",
            "4646   2021-09-21\n",
            "4647   2021-09-22\n",
            "4648   2021-09-23\n",
            "4649   2021-09-24\n",
            "4650   2021-09-27\n",
            "4651   2021-09-28\n",
            "4652   2021-09-29\n",
            "4653   2021-09-30\n",
            "4654   2021-10-01\n",
            "Name: Date, dtype: datetime64[ns]\n"
          ]
        }
      ]
    },
    {
      "cell_type": "code",
      "metadata": {
        "colab": {
          "base_uri": "https://localhost:8080/"
        },
        "id": "VZEhdcBb-aZd",
        "outputId": "f56ce729-38b5-48c3-e4e7-645186a82d6e"
      },
      "source": [
        "#Variables for training\n",
        "cols = list(df)[1:6]\n",
        "#Date and volume columns are not used in training. \n",
        "print(cols) #['Open', 'High', 'Low', 'Close', 'Adj Close']\n",
        "\n"
      ],
      "execution_count": 4,
      "outputs": [
        {
          "output_type": "stream",
          "name": "stdout",
          "text": [
            "['Open', 'High', 'Low', 'Close', 'Adj Close']\n"
          ]
        }
      ]
    },
    {
      "cell_type": "code",
      "metadata": {
        "colab": {
          "base_uri": "https://localhost:8080/"
        },
        "id": "R9F70XFZ-bEw",
        "outputId": "00ce15e9-8583-444f-c327-2b74d65e6569"
      },
      "source": [
        "#New dataframe with only training data - 5 columns\n",
        "df_for_training = df[cols].astype(float)\n",
        "\n",
        "# df_for_plot=df_for_training.tail(5000)\n",
        "# df_for_plot.plot.line()\n",
        "\n",
        "#LSTM uses sigmoid and tanh that are sensitive to magnitude so values need to be normalized\n",
        "# normalize the dataset\n",
        "scaler = StandardScaler()\n",
        "scaler = scaler.fit(df_for_training)\n",
        "df_for_training_scaled = scaler.transform(df_for_training)\n",
        "\n",
        "\n",
        "#As required for LSTM networks, we require to reshape an input data into n_samples x timesteps x n_features. \n",
        "#In this example, the n_features is 5. We will make timesteps = 14 (past days data used for training). \n",
        "\n",
        "#Empty lists to be populated using formatted training data\n",
        "trainX = []\n",
        "trainY = []\n",
        "\n",
        "n_future = 1   # Number of days we want to look into the future based on the past days.\n",
        "n_past = 14  # Number of past days we want to use to predict the future.\n",
        "\n",
        "#Reformat input data into a shape: (n_samples x timesteps x n_features)\n",
        "#In my example, my df_for_training_scaled has a shape (12823, 5)\n",
        "#12823 refers to the number of data points and 5 refers to the columns (multi-variables).\n",
        "for i in range(n_past, len(df_for_training_scaled) - n_future +1):\n",
        "    trainX.append(df_for_training_scaled[i - n_past:i, 0:df_for_training.shape[1]])\n",
        "    trainY.append(df_for_training_scaled[i + n_future - 1:i + n_future, 0])\n",
        "\n",
        "trainX, trainY = np.array(trainX), np.array(trainY)\n",
        "\n",
        "print('trainX shape == {}.'.format(trainX.shape))\n",
        "print('trainY shape == {}.'.format(trainY.shape))\n",
        "\n"
      ],
      "execution_count": 5,
      "outputs": [
        {
          "output_type": "stream",
          "name": "stdout",
          "text": [
            "trainX shape == (4641, 14, 5).\n",
            "trainY shape == (4641, 1).\n"
          ]
        }
      ]
    },
    {
      "cell_type": "code",
      "metadata": {
        "colab": {
          "base_uri": "https://localhost:8080/"
        },
        "id": "sDHy46jh-bB7",
        "outputId": "34582bc2-d3f5-4ee7-b37e-0aa5dc7ebe20"
      },
      "source": [
        "#In my case, trainX has a shape (12809, 14, 5). \n",
        "#12809 because we are looking back 14 days (12823 - 14 = 12809). \n",
        "#Remember that we cannot look back 14 days until we get to the 15th day. \n",
        "#Also, trainY has a shape (12809, 1). Our model only predicts a single value, but \n",
        "#it needs multiple variables (5 in my example) to make this prediction. \n",
        "#This is why we can only predict a single day after our training, the day after where our data ends.\n",
        "#To predict more days in future, we need all the 5 variables which we do not have. \n",
        "#We need to predict all variables if we want to do that. \n",
        "\n",
        "# define the Autoencoder model\n",
        "\n",
        "model = Sequential()\n",
        "model.add(LSTM(64, activation='relu', input_shape=(trainX.shape[1], trainX.shape[2]), return_sequences=True))\n",
        "model.add(LSTM(32, activation='relu', return_sequences=False))\n",
        "model.add(Dropout(0.2))\n",
        "model.add(Dense(trainY.shape[1]))\n",
        "\n",
        "model.compile(optimizer='adam', loss='mse')\n",
        "model.summary()\n",
        "\n",
        "\n"
      ],
      "execution_count": 6,
      "outputs": [
        {
          "output_type": "stream",
          "name": "stdout",
          "text": [
            "Model: \"sequential\"\n",
            "_________________________________________________________________\n",
            "Layer (type)                 Output Shape              Param #   \n",
            "=================================================================\n",
            "lstm (LSTM)                  (None, 14, 64)            17920     \n",
            "_________________________________________________________________\n",
            "lstm_1 (LSTM)                (None, 32)                12416     \n",
            "_________________________________________________________________\n",
            "dropout (Dropout)            (None, 32)                0         \n",
            "_________________________________________________________________\n",
            "dense (Dense)                (None, 1)                 33        \n",
            "=================================================================\n",
            "Total params: 30,369\n",
            "Trainable params: 30,369\n",
            "Non-trainable params: 0\n",
            "_________________________________________________________________\n"
          ]
        }
      ]
    },
    {
      "cell_type": "code",
      "metadata": {
        "colab": {
          "base_uri": "https://localhost:8080/",
          "height": 452
        },
        "id": "YjXde-S3-a-_",
        "outputId": "43143e77-3668-4957-d138-4aa177c3cc80"
      },
      "source": [
        "# fit the model\n",
        "history = model.fit(trainX, trainY, epochs=5, batch_size=16, validation_split=0.1, verbose=1)\n",
        "\n",
        "plt.plot(history.history['loss'], label='Training loss')\n",
        "plt.plot(history.history['val_loss'], label='Validation loss')\n",
        "plt.legend()\n",
        "\n"
      ],
      "execution_count": 7,
      "outputs": [
        {
          "output_type": "stream",
          "name": "stdout",
          "text": [
            "Epoch 1/5\n",
            "261/261 [==============================] - 5s 13ms/step - loss: nan - val_loss: nan\n",
            "Epoch 2/5\n",
            "261/261 [==============================] - 3s 11ms/step - loss: nan - val_loss: nan\n",
            "Epoch 3/5\n",
            "261/261 [==============================] - 3s 11ms/step - loss: nan - val_loss: nan\n",
            "Epoch 4/5\n",
            "261/261 [==============================] - 3s 11ms/step - loss: nan - val_loss: nan\n",
            "Epoch 5/5\n",
            "261/261 [==============================] - 3s 11ms/step - loss: nan - val_loss: nan\n"
          ]
        },
        {
          "output_type": "execute_result",
          "data": {
            "text/plain": [
              "<matplotlib.legend.Legend at 0x7fc3ca522950>"
            ]
          },
          "metadata": {},
          "execution_count": 7
        },
        {
          "output_type": "display_data",
          "data": {
            "image/png": "[encoded data removed]",
            "text/plain": [
              "<Figure size 432x288 with 1 Axes>"
            ]
          },
          "metadata": {
            "needs_background": "light"
          }
        }
      ]
    },
    {
      "cell_type": "code",
      "metadata": {
        "colab": {
          "base_uri": "https://localhost:8080/"
        },
        "id": "aYnSlgPU-a8i",
        "outputId": "4cdf2b0f-3425-4cf6-e2b7-0d071748c0b7"
      },
      "source": [
        "#Predicting...\n",
        "#Libraries that will help us extract only business days in the US.\n",
        "#Otherwise our dates would be wrong when we look back (or forward).  \n",
        "from pandas.tseries.holiday import USFederalHolidayCalendar\n",
        "from pandas.tseries.offsets import CustomBusinessDay\n",
        "us_bd = CustomBusinessDay(calendar=USFederalHolidayCalendar())\n",
        "#Remember that we can only predict one day in future as our model needs 5 variables\n",
        "#as inputs for prediction. We only have all 5 variables until the last day in our dataset.\n",
        "n_past = 16\n",
        "n_days_for_prediction=100  #let us predict past 15 days\n",
        "\n",
        "predict_period_dates = pd.date_range(list(train_dates)[-n_past], periods=n_days_for_prediction, freq=us_bd).tolist()\n",
        "print(predict_period_dates)\n",
        "\n"
      ],
      "execution_count": 10,
      "outputs": [
        {
          "output_type": "stream",
          "name": "stdout",
          "text": [
            "[Timestamp('2021-09-10 00:00:00', freq='C'), Timestamp('2021-09-13 00:00:00', freq='C'), Timestamp('2021-09-14 00:00:00', freq='C'), Timestamp('2021-09-15 00:00:00', freq='C'), Timestamp('2021-09-16 00:00:00', freq='C'), Timestamp('2021-09-17 00:00:00', freq='C'), Timestamp('2021-09-20 00:00:00', freq='C'), Timestamp('2021-09-21 00:00:00', freq='C'), Timestamp('2021-09-22 00:00:00', freq='C'), Timestamp('2021-09-23 00:00:00', freq='C'), Timestamp('2021-09-24 00:00:00', freq='C'), Timestamp('2021-09-27 00:00:00', freq='C'), Timestamp('2021-09-28 00:00:00', freq='C'), Timestamp('2021-09-29 00:00:00', freq='C'), Timestamp('2021-09-30 00:00:00', freq='C'), Timestamp('2021-10-01 00:00:00', freq='C'), Timestamp('2021-10-04 00:00:00', freq='C'), Timestamp('2021-10-05 00:00:00', freq='C'), Timestamp('2021-10-06 00:00:00', freq='C'), Timestamp('2021-10-07 00:00:00', freq='C'), Timestamp('2021-10-08 00:00:00', freq='C'), Timestamp('2021-10-12 00:00:00', freq='C'), Timestamp('2021-10-13 00:00:00', freq='C'), Timestamp('2021-10-14 00:00:00', freq='C'), Timestamp('2021-10-15 00:00:00', freq='C'), Timestamp('2021-10-18 00:00:00', freq='C'), Timestamp('2021-10-19 00:00:00', freq='C'), Timestamp('2021-10-20 00:00:00', freq='C'), Timestamp('2021-10-21 00:00:00', freq='C'), Timestamp('2021-10-22 00:00:00', freq='C'), Timestamp('2021-10-25 00:00:00', freq='C'), Timestamp('2021-10-26 00:00:00', freq='C'), Timestamp('2021-10-27 00:00:00', freq='C'), Timestamp('2021-10-28 00:00:00', freq='C'), Timestamp('2021-10-29 00:00:00', freq='C'), Timestamp('2021-11-01 00:00:00', freq='C'), Timestamp('2021-11-02 00:00:00', freq='C'), Timestamp('2021-11-03 00:00:00', freq='C'), Timestamp('2021-11-04 00:00:00', freq='C'), Timestamp('2021-11-05 00:00:00', freq='C'), Timestamp('2021-11-08 00:00:00', freq='C'), Timestamp('2021-11-09 00:00:00', freq='C'), Timestamp('2021-11-10 00:00:00', freq='C'), Timestamp('2021-11-12 00:00:00', freq='C'), Timestamp('2021-11-15 00:00:00', freq='C'), Timestamp('2021-11-16 00:00:00', freq='C'), Timestamp('2021-11-17 00:00:00', freq='C'), Timestamp('2021-11-18 00:00:00', freq='C'), Timestamp('2021-11-19 00:00:00', freq='C'), Timestamp('2021-11-22 00:00:00', freq='C'), Timestamp('2021-11-23 00:00:00', freq='C'), Timestamp('2021-11-24 00:00:00', freq='C'), Timestamp('2021-11-26 00:00:00', freq='C'), Timestamp('2021-11-29 00:00:00', freq='C'), Timestamp('2021-11-30 00:00:00', freq='C'), Timestamp('2021-12-01 00:00:00', freq='C'), Timestamp('2021-12-02 00:00:00', freq='C'), Timestamp('2021-12-03 00:00:00', freq='C'), Timestamp('2021-12-06 00:00:00', freq='C'), Timestamp('2021-12-07 00:00:00', freq='C'), Timestamp('2021-12-08 00:00:00', freq='C'), Timestamp('2021-12-09 00:00:00', freq='C'), Timestamp('2021-12-10 00:00:00', freq='C'), Timestamp('2021-12-13 00:00:00', freq='C'), Timestamp('2021-12-14 00:00:00', freq='C'), Timestamp('2021-12-15 00:00:00', freq='C'), Timestamp('2021-12-16 00:00:00', freq='C'), Timestamp('2021-12-17 00:00:00', freq='C'), Timestamp('2021-12-20 00:00:00', freq='C'), Timestamp('2021-12-21 00:00:00', freq='C'), Timestamp('2021-12-22 00:00:00', freq='C'), Timestamp('2021-12-23 00:00:00', freq='C'), Timestamp('2021-12-27 00:00:00', freq='C'), Timestamp('2021-12-28 00:00:00', freq='C'), Timestamp('2021-12-29 00:00:00', freq='C'), Timestamp('2021-12-30 00:00:00', freq='C'), Timestamp('2022-01-03 00:00:00', freq='C'), Timestamp('2022-01-04 00:00:00', freq='C'), Timestamp('2022-01-05 00:00:00', freq='C'), Timestamp('2022-01-06 00:00:00', freq='C'), Timestamp('2022-01-07 00:00:00', freq='C'), Timestamp('2022-01-10 00:00:00', freq='C'), Timestamp('2022-01-11 00:00:00', freq='C'), Timestamp('2022-01-12 00:00:00', freq='C'), Timestamp('2022-01-13 00:00:00', freq='C'), Timestamp('2022-01-14 00:00:00', freq='C'), Timestamp('2022-01-18 00:00:00', freq='C'), Timestamp('2022-01-19 00:00:00', freq='C'), Timestamp('2022-01-20 00:00:00', freq='C'), Timestamp('2022-01-21 00:00:00', freq='C'), Timestamp('2022-01-24 00:00:00', freq='C'), Timestamp('2022-01-25 00:00:00', freq='C'), Timestamp('2022-01-26 00:00:00', freq='C'), Timestamp('2022-01-27 00:00:00', freq='C'), Timestamp('2022-01-28 00:00:00', freq='C'), Timestamp('2022-01-31 00:00:00', freq='C'), Timestamp('2022-02-01 00:00:00', freq='C'), Timestamp('2022-02-02 00:00:00', freq='C'), Timestamp('2022-02-03 00:00:00', freq='C'), Timestamp('2022-02-04 00:00:00', freq='C')]\n"
          ]
        }
      ]
    },
    {
      "cell_type": "code",
      "metadata": {
        "colab": {
          "base_uri": "https://localhost:8080/",
          "height": 469
        },
        "id": "8mldnQu8-a5z",
        "outputId": "cf7b7605-e813-47da-e77e-7da4c7114ce2"
      },
      "source": [
        "#Make prediction\n",
        "prediction = model.predict(trainX[-n_days_for_prediction:]) #shape = (n, 1) where n is the n_days_for_prediction\n",
        "\n",
        "#Perform inverse transformation to rescale back to original range\n",
        "#Since we used 5 variables for transform, the inverse expects same dimensions\n",
        "#Therefore, let us copy our values 5 times and discard them after inverse transform\n",
        "prediction_copies = np.repeat(prediction, df_for_training.shape[1], axis=-1)\n",
        "y_pred_future = scaler.inverse_transform(prediction_copies)[:,0]\n",
        "\n",
        "\n",
        "# Convert timestamp to date\n",
        "forecast_dates = []\n",
        "for time_i in predict_period_dates:\n",
        "    forecast_dates.append(time_i.date())\n",
        "    \n",
        "df_forecast = pd.DataFrame({'Date':np.array(forecast_dates), 'Open':y_pred_future})\n",
        "df_forecast['Date']=pd.to_datetime(df_forecast['Date'])\n",
        "\n",
        "\n",
        "original = df[['Date', 'Open']]\n",
        "original['Date']=pd.to_datetime(original['Date'])\n",
        "original = original.loc[original['Date'] >= '2020-5-1']\n",
        "\n",
        "sns.lineplot(original['Date'], original['Open'])\n",
        "sns.lineplot(df_forecast['Date'], df_forecast['Open'])"
      ],
      "execution_count": 9,
      "outputs": [
        {
          "output_type": "stream",
          "name": "stderr",
          "text": [
            "/usr/local/lib/python3.7/dist-packages/ipykernel_launcher.py:21: SettingWithCopyWarning: \n",
            "A value is trying to be set on a copy of a slice from a DataFrame.\n",
            "Try using .loc[row_indexer,col_indexer] = value instead\n",
            "\n",
            "See the caveats in the documentation: https://pandas.pydata.org/pandas-docs/stable/user_guide/indexing.html#returning-a-view-versus-a-copy\n",
            "/usr/local/lib/python3.7/dist-packages/seaborn/_decorators.py:43: FutureWarning: Pass the following variables as keyword args: x, y. From version 0.12, the only valid positional argument will be `data`, and passing other arguments without an explicit keyword will result in an error or misinterpretation.\n",
            "  FutureWarning\n",
            "/usr/local/lib/python3.7/dist-packages/seaborn/_decorators.py:43: FutureWarning: Pass the following variables as keyword args: x, y. From version 0.12, the only valid positional argument will be `data`, and passing other arguments without an explicit keyword will result in an error or misinterpretation.\n",
            "  FutureWarning\n"
          ]
        },
        {
          "output_type": "execute_result",
          "data": {
            "text/plain": [
              "<matplotlib.axes._subplots.AxesSubplot at 0x7fc3c9f6ce10>"
            ]
          },
          "metadata": {},
          "execution_count": 9
        },
        {
          "output_type": "display_data",
          "data": {
            "image/png": "[encoded data removed]",
            "text/plain": [
              "<Figure size 432x288 with 1 Axes>"
            ]
          },
          "metadata": {
            "needs_background": "light"
          }
        }
      ]
    },
    {
      "cell_type": "code",
      "metadata": {
        "id": "1YvzSUFn-a3D"
      },
      "source": [
        ""
      ],
      "execution_count": 9,
      "outputs": []
    },
    {
      "cell_type": "code",
      "metadata": {
        "id": "Hr9kaU0U-a0Q"
      },
      "source": [
        ""
      ],
      "execution_count": 9,
      "outputs": []
    },
    {
      "cell_type": "code",
      "metadata": {
        "id": "Wn6b-LQ6-axS"
      },
      "source": [
        ""
      ],
      "execution_count": 9,
      "outputs": []
    },
    {
      "cell_type": "code",
      "metadata": {
        "id": "L_DqJAEo-anS"
      },
      "source": [
        ""
      ],
      "execution_count": 9,
      "outputs": []
    }
  ]
}